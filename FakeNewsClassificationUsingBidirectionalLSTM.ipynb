{
  "nbformat": 4,
  "nbformat_minor": 0,
  "metadata": {
    "kernelspec": {
      "display_name": "Python 3",
      "language": "python",
      "name": "python3"
    },
    "language_info": {
      "codemirror_mode": {
        "name": "ipython",
        "version": 3
      },
      "file_extension": ".py",
      "mimetype": "text/x-python",
      "name": "python",
      "nbconvert_exporter": "python",
      "pygments_lexer": "ipython3",
      "version": "3.7.4"
    },
    "colab": {
      "name": "FakeNewsClassificationUsingBidirectionalLSTM.ipynb",
      "provenance": [],
      "collapsed_sections": [],
      "include_colab_link": true
    },
    "accelerator": "GPU"
  },
  "cells": [
    {
      "cell_type": "markdown",
      "metadata": {
        "id": "view-in-github",
        "colab_type": "text"
      },
      "source": [
        "<a href=\"https://colab.research.google.com/github/salonigupta1/Fake-News-Classifier/blob/main/FakeNewsClassificationUsingBidirectionalLSTM.ipynb\" target=\"_parent\"><img src=\"https://colab.research.google.com/assets/colab-badge.svg\" alt=\"Open In Colab\"/></a>"
      ]
    },
    {
      "cell_type": "markdown",
      "metadata": {
        "id": "W_cscvEh7KPD"
      },
      "source": [
        "## Fake News Classifier Using LSTM\n",
        "\n",
        "Dataset: https://www.kaggle.com/c/fake-news/data#"
      ]
    },
    {
      "cell_type": "code",
      "metadata": {
        "id": "_Ad95kCR7KPJ"
      },
      "source": [
        "import pandas as pd"
      ],
      "execution_count": 1,
      "outputs": []
    },
    {
      "cell_type": "code",
      "metadata": {
        "id": "Ubfhv2zK7KPL"
      },
      "source": [
        "df=pd.read_csv('spam.csv', encoding='latin-1')"
      ],
      "execution_count": 12,
      "outputs": []
    },
    {
      "cell_type": "code",
      "metadata": {
        "colab": {
          "base_uri": "https://localhost:8080/",
          "height": 205
        },
        "id": "-qst6K4W2kJP",
        "outputId": "96177e12-049d-4aca-ce2a-12ffa606c34a"
      },
      "source": [
        "df.head()"
      ],
      "execution_count": 13,
      "outputs": [
        {
          "output_type": "execute_result",
          "data": {
            "text/html": [
              "<div>\n",
              "<style scoped>\n",
              "    .dataframe tbody tr th:only-of-type {\n",
              "        vertical-align: middle;\n",
              "    }\n",
              "\n",
              "    .dataframe tbody tr th {\n",
              "        vertical-align: top;\n",
              "    }\n",
              "\n",
              "    .dataframe thead th {\n",
              "        text-align: right;\n",
              "    }\n",
              "</style>\n",
              "<table border=\"1\" class=\"dataframe\">\n",
              "  <thead>\n",
              "    <tr style=\"text-align: right;\">\n",
              "      <th></th>\n",
              "      <th>v1</th>\n",
              "      <th>v2</th>\n",
              "      <th>Unnamed: 2</th>\n",
              "      <th>Unnamed: 3</th>\n",
              "      <th>Unnamed: 4</th>\n",
              "    </tr>\n",
              "  </thead>\n",
              "  <tbody>\n",
              "    <tr>\n",
              "      <th>0</th>\n",
              "      <td>ham</td>\n",
              "      <td>Go until jurong point, crazy.. Available only ...</td>\n",
              "      <td>NaN</td>\n",
              "      <td>NaN</td>\n",
              "      <td>NaN</td>\n",
              "    </tr>\n",
              "    <tr>\n",
              "      <th>1</th>\n",
              "      <td>ham</td>\n",
              "      <td>Ok lar... Joking wif u oni...</td>\n",
              "      <td>NaN</td>\n",
              "      <td>NaN</td>\n",
              "      <td>NaN</td>\n",
              "    </tr>\n",
              "    <tr>\n",
              "      <th>2</th>\n",
              "      <td>spam</td>\n",
              "      <td>Free entry in 2 a wkly comp to win FA Cup fina...</td>\n",
              "      <td>NaN</td>\n",
              "      <td>NaN</td>\n",
              "      <td>NaN</td>\n",
              "    </tr>\n",
              "    <tr>\n",
              "      <th>3</th>\n",
              "      <td>ham</td>\n",
              "      <td>U dun say so early hor... U c already then say...</td>\n",
              "      <td>NaN</td>\n",
              "      <td>NaN</td>\n",
              "      <td>NaN</td>\n",
              "    </tr>\n",
              "    <tr>\n",
              "      <th>4</th>\n",
              "      <td>ham</td>\n",
              "      <td>Nah I don't think he goes to usf, he lives aro...</td>\n",
              "      <td>NaN</td>\n",
              "      <td>NaN</td>\n",
              "      <td>NaN</td>\n",
              "    </tr>\n",
              "  </tbody>\n",
              "</table>\n",
              "</div>"
            ],
            "text/plain": [
              "     v1  ... Unnamed: 4\n",
              "0   ham  ...        NaN\n",
              "1   ham  ...        NaN\n",
              "2  spam  ...        NaN\n",
              "3   ham  ...        NaN\n",
              "4   ham  ...        NaN\n",
              "\n",
              "[5 rows x 5 columns]"
            ]
          },
          "metadata": {},
          "execution_count": 13
        }
      ]
    },
    {
      "cell_type": "code",
      "metadata": {
        "colab": {
          "base_uri": "https://localhost:8080/"
        },
        "id": "siDL0Nl52_TA",
        "outputId": "ca64be7e-392e-492f-ea6c-7effb6bdf96f"
      },
      "source": [
        "from sklearn import preprocessing\n",
        "\n",
        "label_encoder = preprocessing.LabelEncoder()\n",
        " \n",
        "df['v1']= label_encoder.fit_transform(df['v1'])\n",
        " \n",
        "df['v1'].unique()"
      ],
      "execution_count": 15,
      "outputs": [
        {
          "output_type": "execute_result",
          "data": {
            "text/plain": [
              "array([0, 1])"
            ]
          },
          "metadata": {},
          "execution_count": 15
        }
      ]
    },
    {
      "cell_type": "code",
      "metadata": {
        "id": "A2qHxV6h7KPN"
      },
      "source": [
        "###Drop Nan Values\n",
        "df=df.drop(['Unnamed: 2', 'Unnamed: 3', 'Unnamed: 4'], axis = 1)\n"
      ],
      "execution_count": 16,
      "outputs": []
    },
    {
      "cell_type": "code",
      "metadata": {
        "id": "DBirT3AM7KPO"
      },
      "source": [
        "## Get the Independent Features\n",
        "\n",
        "X=df['v2']"
      ],
      "execution_count": 18,
      "outputs": []
    },
    {
      "cell_type": "code",
      "metadata": {
        "id": "ZzEavt8v7KPP"
      },
      "source": [
        "## Get the Dependent features\n",
        "y=df['v1']"
      ],
      "execution_count": 19,
      "outputs": []
    },
    {
      "cell_type": "code",
      "metadata": {
        "colab": {
          "base_uri": "https://localhost:8080/"
        },
        "id": "AvLbUaXs7KPQ",
        "outputId": "b5d48b2f-f77c-43bc-f625-cb2a1f5f290e"
      },
      "source": [
        "X.shape"
      ],
      "execution_count": 20,
      "outputs": [
        {
          "output_type": "execute_result",
          "data": {
            "text/plain": [
              "(5572,)"
            ]
          },
          "metadata": {},
          "execution_count": 20
        }
      ]
    },
    {
      "cell_type": "code",
      "metadata": {
        "colab": {
          "base_uri": "https://localhost:8080/"
        },
        "id": "nRA24dHg7KPQ",
        "outputId": "51cb529e-da00-4e3d-84a9-ed855c5351d4"
      },
      "source": [
        "y.shape"
      ],
      "execution_count": 21,
      "outputs": [
        {
          "output_type": "execute_result",
          "data": {
            "text/plain": [
              "(5572,)"
            ]
          },
          "metadata": {},
          "execution_count": 21
        }
      ]
    },
    {
      "cell_type": "code",
      "metadata": {
        "id": "YuLziLFw7KPR"
      },
      "source": [
        "import tensorflow as tf"
      ],
      "execution_count": 22,
      "outputs": []
    },
    {
      "cell_type": "code",
      "metadata": {
        "colab": {
          "base_uri": "https://localhost:8080/",
          "height": 35
        },
        "id": "R0D6zJSl7KPS",
        "outputId": "29e425f3-40a2-4457-904d-75119872a81b"
      },
      "source": [
        "tf.__version__"
      ],
      "execution_count": 23,
      "outputs": [
        {
          "output_type": "execute_result",
          "data": {
            "application/vnd.google.colaboratory.intrinsic+json": {
              "type": "string"
            },
            "text/plain": [
              "'2.6.0'"
            ]
          },
          "metadata": {},
          "execution_count": 23
        }
      ]
    },
    {
      "cell_type": "code",
      "metadata": {
        "id": "10xhCed57KPS"
      },
      "source": [
        "from tensorflow.keras.layers import Embedding\n",
        "from tensorflow.keras.preprocessing.sequence import pad_sequences\n",
        "from tensorflow.keras.models import Sequential\n",
        "from tensorflow.keras.preprocessing.text import one_hot\n",
        "from tensorflow.keras.layers import LSTM\n",
        "from tensorflow.keras.layers import Dense\n",
        "from tensorflow.keras.layers import Dropout\n",
        "from tensorflow.keras.layers import Bidirectional"
      ],
      "execution_count": 38,
      "outputs": []
    },
    {
      "cell_type": "code",
      "metadata": {
        "id": "s9QbN5g57KPT"
      },
      "source": [
        "### Vocabulary size\n",
        "voc_size=5000"
      ],
      "execution_count": 25,
      "outputs": []
    },
    {
      "cell_type": "markdown",
      "metadata": {
        "id": "idBb6PTo7KPT"
      },
      "source": [
        "### Onehot Representation"
      ]
    },
    {
      "cell_type": "code",
      "metadata": {
        "id": "D1dnf6CE7KPU"
      },
      "source": [
        "messages=X.copy()"
      ],
      "execution_count": 26,
      "outputs": []
    },
    {
      "cell_type": "code",
      "metadata": {
        "colab": {
          "base_uri": "https://localhost:8080/",
          "height": 35
        },
        "id": "iCMqOOw87KPU",
        "outputId": "f06f1854-eb87-4e4e-ce60-755e31a451bd"
      },
      "source": [
        "messages[1]"
      ],
      "execution_count": 27,
      "outputs": [
        {
          "output_type": "execute_result",
          "data": {
            "application/vnd.google.colaboratory.intrinsic+json": {
              "type": "string"
            },
            "text/plain": [
              "'Ok lar... Joking wif u oni...'"
            ]
          },
          "metadata": {},
          "execution_count": 27
        }
      ]
    },
    {
      "cell_type": "code",
      "metadata": {
        "id": "7uUBSK2F7KPV"
      },
      "source": [
        "import nltk\n",
        "import re\n",
        "from nltk.corpus import stopwords"
      ],
      "execution_count": 28,
      "outputs": []
    },
    {
      "cell_type": "code",
      "metadata": {
        "colab": {
          "base_uri": "https://localhost:8080/"
        },
        "id": "khO1Zr077KPW",
        "outputId": "b0c34e14-8e92-4bf1-dfad-d12481689326"
      },
      "source": [
        "nltk.download('stopwords')"
      ],
      "execution_count": 29,
      "outputs": [
        {
          "output_type": "stream",
          "name": "stdout",
          "text": [
            "[nltk_data] Downloading package stopwords to /root/nltk_data...\n",
            "[nltk_data]   Unzipping corpora/stopwords.zip.\n"
          ]
        },
        {
          "output_type": "execute_result",
          "data": {
            "text/plain": [
              "True"
            ]
          },
          "metadata": {},
          "execution_count": 29
        }
      ]
    },
    {
      "cell_type": "code",
      "metadata": {
        "id": "L0SjIEg67KPW"
      },
      "source": [
        "### Dataset Preprocessing\n",
        "from nltk.stem.porter import PorterStemmer\n",
        "ps = PorterStemmer()\n",
        "corpus = []\n",
        "for i in range(0, len(messages)):\n",
        "    #print(i)\n",
        "    review = re.sub('[^a-zA-Z]', ' ', messages[i])\n",
        "    review = review.lower()\n",
        "    review = review.split()\n",
        "    \n",
        "    review = [ps.stem(word) for word in review if not word in stopwords.words('english')]\n",
        "    review = ' '.join(review)\n",
        "    corpus.append(review)"
      ],
      "execution_count": 31,
      "outputs": []
    },
    {
      "cell_type": "code",
      "metadata": {
        "id": "yzmvTbQ97KPX"
      },
      "source": [
        "onehot_repr=[one_hot(words,voc_size)for words in corpus] "
      ],
      "execution_count": 33,
      "outputs": []
    },
    {
      "cell_type": "markdown",
      "metadata": {
        "id": "8PIgiIBL7KPX"
      },
      "source": [
        "### Embedding Representation"
      ]
    },
    {
      "cell_type": "code",
      "metadata": {
        "id": "DXtvMG4g7KPY"
      },
      "source": [
        "sent_length=20\n",
        "embedded_docs=pad_sequences(onehot_repr,padding='pre',maxlen=sent_length)"
      ],
      "execution_count": 34,
      "outputs": []
    },
    {
      "cell_type": "code",
      "metadata": {
        "colab": {
          "base_uri": "https://localhost:8080/"
        },
        "id": "jd2CM5UE7KPY",
        "outputId": "3343b5b1-8598-4f3e-cb0c-681e14ecbb70"
      },
      "source": [
        "embedded_docs[0]"
      ],
      "execution_count": 35,
      "outputs": [
        {
          "output_type": "execute_result",
          "data": {
            "text/plain": [
              "array([   0,    0,    0,    0,  307,  439, 2074, 4366, 2379,  317, 1180,\n",
              "        537, 1532, 4103, 3560, 1085, 2630, 1756, 4480, 1946], dtype=int32)"
            ]
          },
          "metadata": {},
          "execution_count": 35
        }
      ]
    },
    {
      "cell_type": "code",
      "metadata": {
        "scrolled": true,
        "colab": {
          "base_uri": "https://localhost:8080/"
        },
        "id": "sH-ZpfG97KPY",
        "outputId": "07b71385-9e08-4e64-89c4-b2d6b473391a"
      },
      "source": [
        "## Creating model\n",
        "embedding_vector_features=40\n",
        "model1=Sequential()\n",
        "model1.add(Embedding(voc_size,embedding_vector_features,input_length=sent_length))\n",
        "model1.add(LSTM(100))\n",
        "model1.add(Dense(1,activation='sigmoid'))\n",
        "model1.compile(loss='binary_crossentropy',optimizer='adam',metrics=['accuracy'])\n",
        "print(model1.summary())"
      ],
      "execution_count": 51,
      "outputs": [
        {
          "output_type": "stream",
          "name": "stdout",
          "text": [
            "Model: \"sequential_3\"\n",
            "_________________________________________________________________\n",
            "Layer (type)                 Output Shape              Param #   \n",
            "=================================================================\n",
            "embedding_3 (Embedding)      (None, 20, 40)            200000    \n",
            "_________________________________________________________________\n",
            "lstm_2 (LSTM)                (None, 100)               56400     \n",
            "_________________________________________________________________\n",
            "dense_2 (Dense)              (None, 1)                 101       \n",
            "=================================================================\n",
            "Total params: 256,501\n",
            "Trainable params: 256,501\n",
            "Non-trainable params: 0\n",
            "_________________________________________________________________\n",
            "None\n"
          ]
        }
      ]
    },
    {
      "cell_type": "code",
      "metadata": {
        "colab": {
          "base_uri": "https://localhost:8080/"
        },
        "id": "2uFuEGpz9xgN",
        "outputId": "3155b668-da80-4edb-e312-8762c6a6213c"
      },
      "source": [
        "## Creating model\n",
        "embedding_vector_features=40\n",
        "model1=Sequential()\n",
        "model1.add(Embedding(voc_size,embedding_vector_features,input_length=sent_length))\n",
        "model1.add(Bidirectional(LSTM(100)))\n",
        "model1.add(Dense(1,activation='sigmoid'))\n",
        "model1.compile(loss='binary_crossentropy',optimizer='adam',metrics=['accuracy'])\n",
        "print(model1.summary())"
      ],
      "execution_count": 52,
      "outputs": [
        {
          "output_type": "stream",
          "name": "stdout",
          "text": [
            "Model: \"sequential_4\"\n",
            "_________________________________________________________________\n",
            "Layer (type)                 Output Shape              Param #   \n",
            "=================================================================\n",
            "embedding_4 (Embedding)      (None, 20, 40)            200000    \n",
            "_________________________________________________________________\n",
            "bidirectional_1 (Bidirection (None, 200)               112800    \n",
            "_________________________________________________________________\n",
            "dense_3 (Dense)              (None, 1)                 201       \n",
            "=================================================================\n",
            "Total params: 313,001\n",
            "Trainable params: 313,001\n",
            "Non-trainable params: 0\n",
            "_________________________________________________________________\n",
            "None\n"
          ]
        }
      ]
    },
    {
      "cell_type": "code",
      "metadata": {
        "colab": {
          "base_uri": "https://localhost:8080/"
        },
        "id": "Bui6JlgV7KPZ",
        "outputId": "20f3b48a-d699-4db1-aa61-0534cc3ca7da"
      },
      "source": [
        "len(embedded_docs),y.shape"
      ],
      "execution_count": 53,
      "outputs": [
        {
          "output_type": "execute_result",
          "data": {
            "text/plain": [
              "(5572, (5572,))"
            ]
          },
          "metadata": {},
          "execution_count": 53
        }
      ]
    },
    {
      "cell_type": "code",
      "metadata": {
        "id": "oREVeqz27KPZ"
      },
      "source": [
        "import numpy as np\n",
        "X_final=np.array(embedded_docs)\n",
        "y_final=np.array(y)"
      ],
      "execution_count": 54,
      "outputs": []
    },
    {
      "cell_type": "code",
      "metadata": {
        "colab": {
          "base_uri": "https://localhost:8080/"
        },
        "id": "q7Ft28c87KPZ",
        "outputId": "2e3abe15-6152-41de-95e1-54bb07008829"
      },
      "source": [
        "X_final.shape,y_final.shape"
      ],
      "execution_count": 55,
      "outputs": [
        {
          "output_type": "execute_result",
          "data": {
            "text/plain": [
              "((5572, 20), (5572,))"
            ]
          },
          "metadata": {},
          "execution_count": 55
        }
      ]
    },
    {
      "cell_type": "code",
      "metadata": {
        "id": "qzvHn6Nb7KPa"
      },
      "source": [
        "from sklearn.model_selection import train_test_split\n",
        "X_train, X_test, y_train, y_test = train_test_split(X_final, y_final, test_size=0.33, random_state=42)"
      ],
      "execution_count": 56,
      "outputs": []
    },
    {
      "cell_type": "markdown",
      "metadata": {
        "id": "zSKaMvk67KPa"
      },
      "source": [
        "### Model Training"
      ]
    },
    {
      "cell_type": "code",
      "metadata": {
        "colab": {
          "base_uri": "https://localhost:8080/"
        },
        "id": "6OfSaxEcz1VX",
        "outputId": "c95bab8b-73c7-4895-d6ca-a2b674b313ef"
      },
      "source": [
        "y_test"
      ],
      "execution_count": 57,
      "outputs": [
        {
          "output_type": "execute_result",
          "data": {
            "text/plain": [
              "array([0, 0, 1, ..., 0, 0, 1])"
            ]
          },
          "metadata": {},
          "execution_count": 57
        }
      ]
    },
    {
      "cell_type": "code",
      "metadata": {
        "colab": {
          "base_uri": "https://localhost:8080/"
        },
        "id": "VqKtY4bM7KPa",
        "outputId": "f1f0c083-7e80-422d-c387-9fb763bd7c4d"
      },
      "source": [
        "### Finally Training\n",
        "model1.fit(X_train,y_train,validation_data=(X_test,y_test),epochs=10,batch_size=64)"
      ],
      "execution_count": 58,
      "outputs": [
        {
          "output_type": "stream",
          "name": "stdout",
          "text": [
            "Epoch 1/10\n",
            "59/59 [==============================] - 6s 33ms/step - loss: 0.2590 - accuracy: 0.9124 - val_loss: 0.0833 - val_accuracy: 0.9777\n",
            "Epoch 2/10\n",
            "59/59 [==============================] - 1s 18ms/step - loss: 0.0393 - accuracy: 0.9901 - val_loss: 0.0623 - val_accuracy: 0.9837\n",
            "Epoch 3/10\n",
            "59/59 [==============================] - 1s 18ms/step - loss: 0.0131 - accuracy: 0.9968 - val_loss: 0.0931 - val_accuracy: 0.9788\n",
            "Epoch 4/10\n",
            "59/59 [==============================] - 1s 18ms/step - loss: 0.0055 - accuracy: 0.9987 - val_loss: 0.0917 - val_accuracy: 0.9826\n",
            "Epoch 5/10\n",
            "59/59 [==============================] - 1s 18ms/step - loss: 0.0020 - accuracy: 0.9997 - val_loss: 0.1103 - val_accuracy: 0.9804\n",
            "Epoch 6/10\n",
            "59/59 [==============================] - 1s 19ms/step - loss: 0.0018 - accuracy: 0.9997 - val_loss: 0.1278 - val_accuracy: 0.9793\n",
            "Epoch 7/10\n",
            "59/59 [==============================] - 1s 19ms/step - loss: 0.0015 - accuracy: 0.9995 - val_loss: 0.1096 - val_accuracy: 0.9793\n",
            "Epoch 8/10\n",
            "59/59 [==============================] - 1s 19ms/step - loss: 0.0014 - accuracy: 0.9997 - val_loss: 0.1152 - val_accuracy: 0.9799\n",
            "Epoch 9/10\n",
            "59/59 [==============================] - 1s 18ms/step - loss: 0.0021 - accuracy: 0.9995 - val_loss: 0.1133 - val_accuracy: 0.9799\n",
            "Epoch 10/10\n",
            "59/59 [==============================] - 1s 19ms/step - loss: 1.9188e-04 - accuracy: 1.0000 - val_loss: 0.1244 - val_accuracy: 0.9788\n"
          ]
        },
        {
          "output_type": "execute_result",
          "data": {
            "text/plain": [
              "<keras.callbacks.History at 0x7fc02d7950d0>"
            ]
          },
          "metadata": {},
          "execution_count": 58
        }
      ]
    },
    {
      "cell_type": "markdown",
      "metadata": {
        "id": "XtNI91Re7KPa"
      },
      "source": [
        "### Adding Dropout "
      ]
    },
    {
      "cell_type": "code",
      "metadata": {
        "id": "oEXIqmll7KPa"
      },
      "source": [
        "from tensorflow.keras.layers import Dropout\n",
        "## Creating model\n",
        "embedding_vector_features=40\n",
        "model1=Sequential()\n",
        "model1.add(Embedding(voc_size,embedding_vector_features,input_length=sent_length))\n",
        "model1.add(Dropout(0.3))\n",
        "model1.add(LSTM(100))\n",
        "model1.add(Dropout(0.3))\n",
        "model1.add(Dense(1,activation='sigmoid'))\n",
        "model1.compile(loss='binary_crossentropy',optimizer='adam',metrics=['accuracy'])"
      ],
      "execution_count": null,
      "outputs": []
    },
    {
      "cell_type": "markdown",
      "metadata": {
        "id": "kioE62mP7KPb"
      },
      "source": [
        "### Performance Metrics And Accuracy"
      ]
    },
    {
      "cell_type": "code",
      "metadata": {
        "id": "b5Q17JJ07KPb"
      },
      "source": [
        "y_pred=model1.predict(X_test)"
      ],
      "execution_count": 59,
      "outputs": []
    },
    {
      "cell_type": "code",
      "metadata": {
        "id": "-cgqTJxm7KPb"
      },
      "source": [
        "from sklearn.metrics import confusion_matrix"
      ],
      "execution_count": 60,
      "outputs": []
    },
    {
      "cell_type": "code",
      "metadata": {
        "id": "HeAMeHy7-pox"
      },
      "source": [
        "y_pred = np.argmax(y_pred, axis=1)"
      ],
      "execution_count": 61,
      "outputs": []
    },
    {
      "cell_type": "code",
      "metadata": {
        "id": "glWR1Jrq7KPb",
        "colab": {
          "base_uri": "https://localhost:8080/"
        },
        "outputId": "f0c5207b-78e2-43ea-fc9f-67e7ff562e68"
      },
      "source": [
        "confusion_matrix(y_test,y_pred)"
      ],
      "execution_count": 62,
      "outputs": [
        {
          "output_type": "execute_result",
          "data": {
            "text/plain": [
              "array([[1587,    0],\n",
              "       [ 252,    0]])"
            ]
          },
          "metadata": {},
          "execution_count": 62
        }
      ]
    },
    {
      "cell_type": "code",
      "metadata": {
        "id": "K7mb1aCZ7KPb",
        "colab": {
          "base_uri": "https://localhost:8080/"
        },
        "outputId": "6b17dc47-61cb-4071-c035-0ae9d23c7e87"
      },
      "source": [
        "from sklearn.metrics import accuracy_score\n",
        "accuracy_score(y_test,y_pred)"
      ],
      "execution_count": 63,
      "outputs": [
        {
          "output_type": "execute_result",
          "data": {
            "text/plain": [
              "0.8629690048939641"
            ]
          },
          "metadata": {},
          "execution_count": 63
        }
      ]
    },
    {
      "cell_type": "code",
      "metadata": {
        "id": "Q6_j7TYVD1xB"
      },
      "source": [
        ""
      ],
      "execution_count": null,
      "outputs": []
    }
  ]
}